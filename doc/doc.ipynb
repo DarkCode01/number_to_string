{
 "cells": [
  {
   "cell_type": "markdown",
   "metadata": {},
   "source": [
    "# Introduccion"
   ]
  },
  {
   "cell_type": "markdown",
   "metadata": {},
   "source": [
    "# Hola, en este notebook tiene como objetivo desarrollar un script o modulo capaz de devolver la cantidad de un numero pero de forma escrita.\n",
    "___\n",
    "\n",
    "![captire](screen1.png)\n",
    "\n",
    "### Antes de profundisar en este script debes de saber obviamente python.\n",
    "\n",
    "#### requisito:\n",
    "* Python2 ó Python3(Recomendable).\n",
    "* Saber de recursión(No es necesario).\n",
    "* Saber Programación orientada a objetos(No es necesario).\n",
    "\n",
    "#### Librerias:\n",
    "* sys (usaremos solo el modulo \"argv\")\n",
    "* termcolor (Para imprimir la salida con algunos colores.) **No es soportado en win32**\n"
   ]
  },
  {
   "cell_type": "markdown",
   "metadata": {},
   "source": [
    "# Ventajas y desbentajas\n",
    "\n",
    "    La creacion de este script es poder sumerjirnos en el tema de la recursividad y la programacion orientada a objetos.\n",
    "    \n",
    "    Pero cuales son las ventajas y las desventajas de desarrollar este script, bueno son las siguientes:\n",
    "    \n",
    "   <h3>Ventajas: </h3>\n",
    "     - Lograr entender la recursividad.\n",
    "     - Lograr entender la programacion orientada a objetos\n",
    "     \n",
    "   <h3>Desventajas: </h3>\n",
    "     - Al utilizar la reucrsividad como una opcion para el desarrollo de este script, lamentablemente el script consumira mucha memoria y se tornara lento en algunas ocasiones."
   ]
  },
  {
   "cell_type": "markdown",
   "metadata": {},
   "source": [
    "# ¿Qué es la recursividad?\n",
    "    \n",
    " > Es la forma en la cual se especifica un proceso basado en su propia definición.\n",
    "  Osea cuando una función es llamada asi mismo.\n",
    " \n",
    " > [Recursión - Wikipedia](https://es.wikipedia.org/wiki/Recursi%C3%B3n)"
   ]
  },
  {
   "cell_type": "code",
   "execution_count": null,
   "metadata": {},
   "outputs": [],
   "source": [
    "def f(start, stop):\n",
    "    \"\"\"\n",
    "        Esto es un ejemplo simple de recursividad, la funcion se llamara a si misma hasta\n",
    "        completar lo que el usuario quiere.\n",
    "        \n",
    "        Esta funcion tiene como objetivo imprimir los numero desde una cantidad inicial hasta\n",
    "        llegar al numero de parada.\n",
    "    \"\"\"\n",
    "    \n",
    "    print(start)\n",
    "    start += 1\n",
    "    if start == stop:\n",
    "        return start \n",
    "    return f(start, stop)  \"\"\" Es necesario retorna en esta parte porque si, a la llamda siguiente,\n",
    "                            a funcion no recivira ningun dato y la funcion dejara de ejecutarse.\n",
    "                            al momento de indicarle que retirne la llamada de la funcion se entra\n",
    "                            en un bucle y hasto se le conoce como recursividad. \"\"\"\n",
    "f(1, 10)"
   ]
  },
  {
   "cell_type": "markdown",
   "metadata": {},
   "source": [
    "## Comienzo de la logica del algoritmo.\n",
    "\n",
    "    Para comenzar con el desarrollo debemos analizar el problema en este caso solo necesitamos como poder ordenar el numero para que podamos trabajar de una forma muy sencilla a la hora de hacer la sustitucion.\n",
    "    \n",
    "    \n",
    "#### Primeros pasos:\n",
    "> Antes de empezar lo ideal seria saber que debemos hacer en estes es decir familiarizarnos con el funcionamiento del problema, bueno, lo que se espera es retornar la cantidad de un numero, facil pero como hacer que sea de forma ordenada y sencilla, **\"sustitucion\"**.\n",
    "\n",
    "> Lo que debemos hacer es descomponer el numero ingrsado en sub-grupos, y clasifiarlos, ejemplo:\n",
    "    `input>>>10000;` en ese ejemplo podemos ver que hay dos sub-grupos ya que en si ese numero seria **diez mil**, pero a simple vista no se podria separar o saber los dos sub-grupos por esto se tienen que añadir las (**,**), para poder separarlos de forma mas sencilla.\n",
    "    \n",
    "> Sabiendo eso ya tenemos la primera parte lista, solo falta añadirles el valor correspondiente y seria asi:\n",
    "    - el sub-grupo mayor siempre sera el primero. eje: 1,000 -> 1 pertence a (**mil**). entonces ese es el mayor.\n",
    "    - para ser mas ordenados siempre se iniciara desde el sub-grupo mayor.\n",
    "\n",
    "Sabiendo esto solo falta los datos para representar cada valor de los numeros y de los sub-grupos.\n",
    "\n",
    "Hay entra el archivo numeros_.py ese archivo contiene dos diccionarios, los cuales son:\n",
    "    - LISTA_NUMEROS\n",
    "    - NUMEROS_RAROS\n",
    "    \n",
    "Funcionan de la siguiene manera:\n",
    ">  El diccionario LISTA_NUMEROS se contiene las llaves 1, 2, 3, y 4, cada una representan el largo del sub-grupo y el largo del caracter:\n",
    "    ej: si el numero es 100, buscara el diccionario con el largo de ese numero en este caso (**3**), LISTA_NUMEROS[\"3\"], y dependiendo del largo de los sub-grupos se obtiene el nivel. en este caso seria asi LISTA_NUMEROS[\"3\"][1], ya que se hace un for en el sub-grupo, si es cero el numero entonces seguira sin sustituir.\n",
    "    Con esta idea ya tenemos el script terminado solo le hacen falta algunos retoques, validar si ya se recorrio el numero, validad si el numero es raro osea pertenece a (once, doce, trece...), saber si el numero es un cero, saber si el numero debe contener la preposicion y etc...\n",
    "    \n",
    " **_Se utilizo la programacion orientada a objeto en el desarrollo de este script, porque facilitaba el uso de los datos a la hora de modificarlos, ya que se usa la recursibidad y es un poco cansoso definir variables globales_**"
   ]
  },
  {
   "cell_type": "markdown",
   "metadata": {},
   "source": [
    "### explicacion del codigo\n",
    "\n",
    "![capture0](import.png)\n",
    "> Se importan las librerias y los diccionarios\n",
    "\n",
    "![Capture2](init.png)\n",
    "\n",
    "> Bueno, los primero es vizualizar cada una de las variebles y luego decir su utilidad\n",
    " - **self.result**: es la variable que sele añadian los datos del numero.\n",
    " - **self.number_copy**: se retornara para indicar que fue el valor ingresado \"1,000\"\n",
    " - **self.number**: en esta variable de guradara, una lista con los sub-grupos. \"['1', '000']\"\n",
    " - **self.len**: guardara el largo de el total de sub-grupos. \"2\", luego se aplica un replace para eliminar los espacios.\n",
    " - **self.LN**: es el diccionario que contiene los valores.\n",
    " - **self.vueltas**: No es usado! \"no es necasario definirlo\".\n",
    " - **self.len_grpup**: se guardara el largo de cada sub-grupo.\n",
    " \n",
    "![capture3](areas.png)\n",
    "\n",
    "> el metodo find se enargara de hacer todo el trabajo, se dividira en doferentes areas o pasos y cada uno tedra su explicacion.\n",
    "\n",
    "## Explicacion\n",
    "\n",
    "- Paso 0 (gris): en esa condicion se verifica que si el largo total de todos los sub-grupos, es cero retorne el **self.result**, cuando es cero quiere decir que ya no hay sub-grupos porque lo recorrio todos. no se utiliza la **self.len** para verificar porque el valor se actualiza una vez termine el bucl for, por lo que si se utiliza hay se produciria un error.\n",
    "\n",
    "\n",
    "- Paso 1(rojo): aqui se toma el largo del sub-grupo que se encuentre en la primera posicion de la lista, y con este largo se pretender saber a que categoria pertenece ese sub-grupo, entonces dependiendo de ese largo se busca en **LISTA_NUMEROS**, ej: el numero es \"100\", en la lista seria [\"100\"], si tomamos el sub-grupo de la primera posicion seria [\"100\"][0] -> \"100\", tomamos el largo seria -> 3 y si buscamos en LISTA_NUMERO[3] devolveria algo asi:\n",
    "    ![ss](n0.png)\n",
    "    y estaria en lo cierto ya que \"100\" pertenece a esa categoria, para eso es la declaracion de **self.len** y para eso se le asigna el alargo del sub-grupo.\n",
    "\n",
    "\n",
    "- Paso 2(violeta): se utiliza este bucle para recorer los valores del sub-grupo, se usa **enumerate()** porque retorna el valor y el indice de dicho valor, el indice nos ayudara a poder predecir el valor futuro del elemento siguiente.\n",
    "\n",
    "- Paso 3(amarillo): en este paso se indica que si el largo del sub-grupo es de 2 y si se une al numero futuro y pertenece a los **NUMEROS_RAROS**, devolvera el valor y se parara la ejecucion, para comenzar de nuevo. los numeros raros son los numeros que no funcionan con la preposicion **y**, ejemplo \"treinta y cuatro\" -> no es raror; pero, \"once\" -> si es raro, porque no es diez y uno. en si lo que hace es buscar en la tupla **NUMEROS_RAROS**, dependiendo del valor, si es el \"11\", buscaria en la posicion 11-1, que seria la posicion 10-\"once\".\n",
    "\n",
    "\n",
    "- Paso 4(verde): este paso se cumple si el paso 3(amarillo) no se cumple, aqui solo pasaran los numeros que no son raros, se verifica de que el numero sea mayor a cero si lo es entonces se buscara el valor del numero, buscando primero su categoria y luego su valor, luego se verifica de que si el largo del subgrupo es dos, y el numero siguiente es diferente a 0(cero), entonces, se le añadira la preposicion **y**. ejemplo, el numero es \"42\", busca en LISTA_NUMERO[\"2\"][int(4-1)] -> retornando \"**cuarenta**\", luego se le añade el \"y \", devido a que el largo es **2** y el numero siguiente no es cero, porque es **2**, luego al hacer eso denuevo, LISTA_NUMERO[\"1\"][int(2-1)] -> \"**cuarenta y dos**\".\n",
    "\n",
    "- Paso 5(morado): aqui se le resta **1** al largo del grupo actual, porque ya se sustituyo el valor del numero obtenido, esto hace que se adapte al cambio haciendo que sea mas preciso eso explica el porque en el caso del **2** en el punto anterior su largo fue **1**.\n",
    "\n",
    "- Paso 6(azul): aqui se verifica de que si el largo de los sub-grupos en total es mayor a 1 y si el valor de ese sub-grupo es mayor a 0, entonces, se le añadira su categoria dependiendo del largo, si el largo al cual se le resta **2**, y de esa forma se devolvera su categoria. ej:\n",
    " si el numero es \"1,000\" entonces el largo es **2**, al entrar al condicional pasa, ya que el largo es mayor a 1 y el subgrupo 0 es **1**, luego se busca en el diccionario LISTA_NUMEROS[\"4\"], la llave por defecto es \"4\" y, al restarle - 2 al largo quedaria 0,por lo que pertenece a **mil**.\n",
    " \n",
    " ![n1g](n1.png)\n",
    " \n",
    "- Paso 7(rosado): aqui se le resta un valor a **self.len** de esta forma de actualiza el largo del sub-grupo, **self.vueltas no es necesario**, y luego se elimina el sub-grupo que se encuentre en la primera posicion osea, se elimina el subgrupo ya recorido, de esta forma cuando se recorrarn todos los sub-grupos al llegar, el largo llegara a 0 y se retornara **self.return**, luego se llama de nuevo a la misma funcion para que logre recorer el sub-grupo siguiente, esto es la recursibidad. de esta forma no es necesario recorrer cada sub-grupo de forma individual osea que por cada sub grupo se defina una funcion, ya que solo serviria para escribir mas codigo, y esto es una ventaja que nos brinda la recursibidad.\n",
    "\n",
    "- Paso 8(gris): este es el ultimo paso y el mas importante porque si no estubiera solo se lograria ver como se sustituyen los valores y no manipular el resultado, se utiliza el retorn, porque en si la funcion aunque no necesita recibir un valor pero si nesetita retornarlo, si no se usara este retorn, entonces el metodo, no retornaria nada. pero entonces para que sirve paso 0(gris), bueno es si ese paso solo funciona para detener la ejecucion de dicho metodo, porque si no se detuviera puede que un error lo haga o solo se sature el sistema.\n",
    "\n",
    "\n",
    "**Se utilizo el try, porque si ingresan un numero erroneo eso saltaria un error y lo que hice fue capturar ese error para mostrar el help, que imprime como funciona el script o modulo.**\n"
   ]
  },
  {
   "cell_type": "markdown",
   "metadata": {},
   "source": [
    "##### Bueno de estas maneras se pudo crear este script, ahora intenta desarrollar otro de una forma diferente o mas optimizada :)\n",
    "\n",
    "![ddd](perfil.png)\n",
    "<center>[GITHUB: Darkcoder01](https://github.com/DarkCode01)</center>"
   ]
  },
  {
   "cell_type": "code",
   "execution_count": null,
   "metadata": {},
   "outputs": [],
   "source": []
  }
 ],
 "metadata": {
  "kernelspec": {
   "display_name": "Python 3",
   "language": "python",
   "name": "python3"
  },
  "language_info": {
   "codemirror_mode": {
    "name": "ipython",
    "version": 3
   },
   "file_extension": ".py",
   "mimetype": "text/x-python",
   "name": "python",
   "nbconvert_exporter": "python",
   "pygments_lexer": "ipython3",
   "version": "3.6.3"
  }
 },
 "nbformat": 4,
 "nbformat_minor": 2
}
